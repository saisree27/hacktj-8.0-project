{
 "cells": [
  {
   "cell_type": "markdown",
   "metadata": {},
   "source": [
    "# Extract Spectrogram Features + Model Prediction\n",
    "\n",
    "### Given 30-second song intro, extract spectrogram features\n",
    "\n",
    "https://gist.github.com/parulnith/7f8c174e6ac099e86f0495d3d9a4c01e#file-music_genre_classification-ipynb"
   ]
  },
  {
   "cell_type": "code",
   "execution_count": 1,
   "metadata": {},
   "outputs": [
    {
     "name": "stdout",
     "output_type": "stream",
     "text": [
      "1 Physical GPUs, 1 Logical GPUs\n"
     ]
    }
   ],
   "source": [
    "import librosa\n",
    "import pandas as pd\n",
    "import numpy as np\n",
    "import csv\n",
    "import matplotlib.pyplot as plt\n",
    "from sklearn.model_selection import train_test_split\n",
    "from sklearn.preprocessing import LabelEncoder, StandardScaler\n",
    "\n",
    "import tensorflow as tf\n",
    "from tensorflow.keras.datasets import cifar10\n",
    "from tensorflow.keras.preprocessing.image import ImageDataGenerator\n",
    "from tensorflow.keras.models import Sequential\n",
    "from tensorflow.keras.layers import Dense, Dropout, Activation, Flatten, BatchNormalization\n",
    "from tensorflow.keras.layers import Conv2D, MaxPooling2D\n",
    "import pickle\n",
    "\n",
    "gpus = tf.config.experimental.list_physical_devices('GPU')\n",
    "if gpus:\n",
    "    try:\n",
    "        # Currently, memory growth needs to be the same across GPUs\n",
    "        for gpu in gpus:\n",
    "            tf.config.experimental.set_memory_growth(gpu, True)\n",
    "        logical_gpus = tf.config.experimental.list_logical_devices('GPU')\n",
    "        print(len(gpus), \"Physical GPUs,\", len(logical_gpus), \"Logical GPUs\")\n",
    "    except RuntimeError as e:\n",
    "        # Memory growth must be set before GPUs have been initialized\n",
    "        print(e)"
   ]
  },
  {
   "cell_type": "code",
   "execution_count": 2,
   "metadata": {},
   "outputs": [],
   "source": [
    "def extract_features(songname):\n",
    "    features = {\n",
    "        'length': '', 'chroma_stft_mean': '', 'chroma_stft_var': '', 'rms_mean': '', 'rms_var': '',\n",
    "       'spectral_centroid_mean': '', 'spectral_centroid_var': '',\n",
    "       'spectral_bandwidth_mean': '', 'spectral_bandwidth_var': '', 'rolloff_mean': '',\n",
    "       'rolloff_var': '', 'zero_crossing_rate_mean': '', 'zero_crossing_rate_var': '',\n",
    "       'harmony_mean': '', 'harmony_var': '', 'perceptr_mean': '', 'perceptr_var': '', 'tempo': '',\n",
    "       'mfcc1_mean': '', 'mfcc1_var': '', 'mfcc2_mean': '', 'mfcc2_var': '', 'mfcc3_mean': '',\n",
    "       'mfcc3_var': '', 'mfcc4_mean': '', 'mfcc4_var': '', 'mfcc5_mean': '', 'mfcc5_var': '',\n",
    "       'mfcc6_mean': '', 'mfcc6_var': '', 'mfcc7_mean': '', 'mfcc7_var': '', 'mfcc8_mean': '',\n",
    "       'mfcc8_var': '', 'mfcc9_mean': '', 'mfcc9_var': '', 'mfcc10_mean': '', 'mfcc10_var': '',\n",
    "       'mfcc11_mean': '', 'mfcc11_var': '', 'mfcc12_mean': '', 'mfcc12_var': '', 'mfcc13_mean': '',\n",
    "       'mfcc13_var': '', 'mfcc14_mean': '', 'mfcc14_var': '', 'mfcc15_mean': '', 'mfcc15_var': '',\n",
    "       'mfcc16_mean': '', 'mfcc16_var': '', 'mfcc17_mean': '', 'mfcc17_var': '', 'mfcc18_mean': '',\n",
    "       'mfcc18_var': '', 'mfcc19_mean': '', 'mfcc19_var': '', 'mfcc20_mean': '', 'mfcc20_var': ''\n",
    "    }\n",
    "    y, sr = librosa.load(songname, mono=True, duration=30)\n",
    "    length = 661794\n",
    "    chroma_stft_mean, chroma_stft_var = np.mean(librosa.feature.chroma_stft(y=y, sr=sr)), np.var(librosa.feature.chroma_stft(y=y, sr=sr))\n",
    "    rms_mean, rms_var = np.mean(librosa.feature.rms(y=y)), np.var(librosa.feature.rms(y=y))\n",
    "    spectral_centroid_mean, spectral_centroid_var = np.mean(librosa.feature.spectral_centroid(y=y, sr=sr)), np.var(librosa.feature.spectral_centroid(y=y, sr=sr))\n",
    "    spectral_bandwidth_mean, spectral_bandwidth_var = np.mean(librosa.feature.spectral_bandwidth(y=y, sr=sr)), np.var(librosa.feature.spectral_bandwidth(y=y, sr=sr))\n",
    "    rolloff_mean, rolloff_var = np.mean(librosa.feature.spectral_rolloff(y=y, sr=sr)), np.var(librosa.feature.spectral_rolloff(y=y, sr=sr))\n",
    "    zcr_mean, zcr_var = np.mean(librosa.feature.zero_crossing_rate(y)), np.var(librosa.feature.zero_crossing_rate(y))\n",
    "    tempo, _ = librosa.beat.beat_track(y=y, sr=sr)\n",
    "    y_harm, y_perc = librosa.effects.hpss(y)\n",
    "    harmony_mean, harmony_var = np.mean(y_harm), np.var(y_harm)\n",
    "    perceptr_mean, perceptr_var = np.mean(y_perc), np.var(y_perc)\n",
    "    \n",
    "    mfcc = librosa.feature.mfcc(y=y, sr=sr)\n",
    "    list_mfccs = [ (0,0) for x in range(0, 21) ]\n",
    "    for index, x in enumerate(mfcc):\n",
    "        list_mfccs[index] = (np.mean(x), np.var(x))\n",
    "    \n",
    "    \n",
    "    features['length'] = length\n",
    "    features['chroma_stft_mean'] = chroma_stft_mean\n",
    "    features['chroma_stft_var'] = chroma_stft_var\n",
    "    features['rms_mean'] = rms_mean\n",
    "    features['rms_var'] = rms_var\n",
    "    features['spectral_centroid_mean'] = spectral_centroid_mean\n",
    "    features['spectral_centroid_var'] = spectral_centroid_var\n",
    "    features['spectral_bandwidth_mean'] = spectral_bandwidth_mean\n",
    "    features['spectral_bandwidth_var'] = spectral_bandwidth_var\n",
    "    features['rolloff_mean'] = rolloff_mean\n",
    "    features['rolloff_var'] = rolloff_var\n",
    "    features['zero_crossing_rate_mean'] = zcr_mean\n",
    "    features['zero_crossing_rate_var'] = zcr_var\n",
    "    features['harmony_mean'] = harmony_mean\n",
    "    features['harmony_var'] = harmony_var\n",
    "    features['perceptr_mean'] = perceptr_mean\n",
    "    features['perceptr_var'] = perceptr_var\n",
    "    features['tempo'] = tempo\n",
    "    features['mfcc1_mean']  = list_mfccs[0][0]\n",
    "    features['mfcc1_var']   = list_mfccs[0][1]\n",
    "    features['mfcc2_mean']  = list_mfccs[1][0]\n",
    "    features['mfcc2_var']   = list_mfccs[1][1]\n",
    "    features['mfcc3_mean']  = list_mfccs[2][0]\n",
    "    features['mfcc3_var']   = list_mfccs[2][1]\n",
    "    features['mfcc4_mean']  = list_mfccs[3][0]\n",
    "    features['mfcc4_var']   = list_mfccs[3][1]\n",
    "    features['mfcc5_mean']  = list_mfccs[4][0]\n",
    "    features['mfcc5_var']   = list_mfccs[4][1]\n",
    "    features['mfcc6_mean']  = list_mfccs[5][0]\n",
    "    features['mfcc6_var']   = list_mfccs[5][1]\n",
    "    features['mfcc7_mean']  = list_mfccs[6][0]\n",
    "    features['mfcc7_var']   = list_mfccs[6][1]\n",
    "    features['mfcc8_mean']  = list_mfccs[7][0]\n",
    "    features['mfcc8_var']   = list_mfccs[7][1]\n",
    "    features['mfcc9_mean']  = list_mfccs[8][0]\n",
    "    features['mfcc9_var']   = list_mfccs[8][1]\n",
    "    features['mfcc10_mean'] = list_mfccs[9][0]\n",
    "    features['mfcc10_var']  = list_mfccs[9][1]\n",
    "    features['mfcc11_mean'] = list_mfccs[10][0]\n",
    "    features['mfcc11_var']  = list_mfccs[10][1]\n",
    "    features['mfcc12_mean'] = list_mfccs[11][0]\n",
    "    features['mfcc12_var']  = list_mfccs[11][1]\n",
    "    features['mfcc13_mean'] = list_mfccs[12][0]\n",
    "    features['mfcc13_var']  = list_mfccs[12][1]\n",
    "    features['mfcc14_mean'] = list_mfccs[13][0]\n",
    "    features['mfcc14_var']  = list_mfccs[13][1]\n",
    "    features['mfcc15_mean'] = list_mfccs[14][0]\n",
    "    features['mfcc15_var']  = list_mfccs[14][1]\n",
    "    features['mfcc16_mean'] = list_mfccs[15][0]\n",
    "    features['mfcc16_var']  = list_mfccs[15][1]\n",
    "    features['mfcc17_mean'] = list_mfccs[16][0]\n",
    "    features['mfcc17_var']  = list_mfccs[16][1]\n",
    "    features['mfcc18_mean'] = list_mfccs[17][0]\n",
    "    features['mfcc18_var']  = list_mfccs[17][1]\n",
    "    features['mfcc19_mean'] = list_mfccs[18][0]\n",
    "    features['mfcc19_var']  = list_mfccs[18][1]\n",
    "    features['mfcc20_mean'] = list_mfccs[19][0]\n",
    "    features['mfcc20_var']  = list_mfccs[19][1]\n",
    "    \n",
    "    return features"
   ]
  },
  {
   "cell_type": "code",
   "execution_count": 3,
   "metadata": {},
   "outputs": [],
   "source": [
    "model = tf.keras.models.load_model('best_model_75.h5')"
   ]
  },
  {
   "cell_type": "code",
   "execution_count": 4,
   "metadata": {},
   "outputs": [
    {
     "name": "stdout",
     "output_type": "stream",
     "text": [
      "Model: \"sequential_6\"\n",
      "_________________________________________________________________\n",
      "Layer (type)                 Output Shape              Param #   \n",
      "=================================================================\n",
      "dense_24 (Dense)             (None, 256)               15104     \n",
      "_________________________________________________________________\n",
      "dense_25 (Dense)             (None, 128)               32896     \n",
      "_________________________________________________________________\n",
      "dense_26 (Dense)             (None, 64)                8256      \n",
      "_________________________________________________________________\n",
      "dense_27 (Dense)             (None, 10)                650       \n",
      "=================================================================\n",
      "Total params: 56,906\n",
      "Trainable params: 56,906\n",
      "Non-trainable params: 0\n",
      "_________________________________________________________________\n"
     ]
    }
   ],
   "source": [
    "model.summary()"
   ]
  },
  {
   "cell_type": "code",
   "execution_count": 19,
   "metadata": {},
   "outputs": [],
   "source": [
    "filename = '../dataset/gitzan/genres_original/metal/metal.00000.wav'"
   ]
  },
  {
   "cell_type": "code",
   "execution_count": 21,
   "metadata": {},
   "outputs": [],
   "source": [
    "features = extract_features(filename)"
   ]
  },
  {
   "cell_type": "code",
   "execution_count": 22,
   "metadata": {},
   "outputs": [
    {
     "data": {
      "text/plain": [
       "{'length': 661794,\n",
       " 'chroma_stft_mean': 0.48779988,\n",
       " 'chroma_stft_var': 0.06744512,\n",
       " 'rms_mean': 0.11614155,\n",
       " 'rms_var': 0.00030277608,\n",
       " 'spectral_centroid_mean': 3274.342156991105,\n",
       " 'spectral_centroid_var': 268370.15639422735,\n",
       " 'spectral_bandwidth_mean': 2722.3163670049926,\n",
       " 'spectral_bandwidth_var': 151347.69595078588,\n",
       " 'rolloff_mean': 6407.227923035991,\n",
       " 'rolloff_var': 1688083.8619361662,\n",
       " 'zero_crossing_rate_mean': 0.18307976973684212,\n",
       " 'zero_crossing_rate_var': 0.0021831421699045304,\n",
       " 'harmony_mean': 0.0003913453,\n",
       " 'harmony_var': 0.00695561,\n",
       " 'perceptr_mean': 0.002437511,\n",
       " 'perceptr_var': 0.002319706,\n",
       " 'tempo': 95.703125,\n",
       " 'mfcc1_mean': -52.901485,\n",
       " 'mfcc1_var': 350.3016,\n",
       " 'mfcc2_mean': 50.085777,\n",
       " 'mfcc2_var': 197.13062,\n",
       " 'mfcc3_mean': -11.487131,\n",
       " 'mfcc3_var': 260.34912,\n",
       " 'mfcc4_mean': 46.34991,\n",
       " 'mfcc4_var': 221.39444,\n",
       " 'mfcc5_mean': 6.5513625,\n",
       " 'mfcc5_var': 116.3445,\n",
       " 'mfcc6_mean': 10.126185,\n",
       " 'mfcc6_var': 81.80571,\n",
       " 'mfcc7_mean': 5.4812465,\n",
       " 'mfcc7_var': 66.73194,\n",
       " 'mfcc8_mean': 8.855128,\n",
       " 'mfcc8_var': 65.14533,\n",
       " 'mfcc9_mean': 5.941896,\n",
       " 'mfcc9_var': 57.46595,\n",
       " 'mfcc10_mean': 6.623278,\n",
       " 'mfcc10_var': 51.432953,\n",
       " 'mfcc11_mean': -4.045889,\n",
       " 'mfcc11_var': 56.517776,\n",
       " 'mfcc12_mean': 9.771428,\n",
       " 'mfcc12_var': 54.274494,\n",
       " 'mfcc13_mean': -3.1174026,\n",
       " 'mfcc13_var': 53.380817,\n",
       " 'mfcc14_mean': 3.6594033,\n",
       " 'mfcc14_var': 57.866287,\n",
       " 'mfcc15_mean': -6.507284,\n",
       " 'mfcc15_var': 49.80213,\n",
       " 'mfcc16_mean': 1.0878415,\n",
       " 'mfcc16_var': 47.44548,\n",
       " 'mfcc17_mean': -4.4854007,\n",
       " 'mfcc17_var': 41.09154,\n",
       " 'mfcc18_mean': 4.725541,\n",
       " 'mfcc18_var': 36.171886,\n",
       " 'mfcc19_mean': -2.7550318,\n",
       " 'mfcc19_var': 44.879578,\n",
       " 'mfcc20_mean': 0.50596565,\n",
       " 'mfcc20_var': 37.08108}"
      ]
     },
     "execution_count": 22,
     "metadata": {},
     "output_type": "execute_result"
    }
   ],
   "source": [
    "features"
   ]
  },
  {
   "cell_type": "code",
   "execution_count": 23,
   "metadata": {},
   "outputs": [
    {
     "data": {
      "text/plain": [
       "[[661794,\n",
       "  0.48779988,\n",
       "  0.06744512,\n",
       "  0.11614155,\n",
       "  0.00030277608,\n",
       "  3274.342156991105,\n",
       "  268370.15639422735,\n",
       "  2722.3163670049926,\n",
       "  151347.69595078588,\n",
       "  6407.227923035991,\n",
       "  1688083.8619361662,\n",
       "  0.18307976973684212,\n",
       "  0.0021831421699045304,\n",
       "  0.0003913453,\n",
       "  0.00695561,\n",
       "  0.002437511,\n",
       "  0.002319706,\n",
       "  95.703125,\n",
       "  -52.901485,\n",
       "  350.3016,\n",
       "  50.085777,\n",
       "  197.13062,\n",
       "  -11.487131,\n",
       "  260.34912,\n",
       "  46.34991,\n",
       "  221.39444,\n",
       "  6.5513625,\n",
       "  116.3445,\n",
       "  10.126185,\n",
       "  81.80571,\n",
       "  5.4812465,\n",
       "  66.73194,\n",
       "  8.855128,\n",
       "  65.14533,\n",
       "  5.941896,\n",
       "  57.46595,\n",
       "  6.623278,\n",
       "  51.432953,\n",
       "  -4.045889,\n",
       "  56.517776,\n",
       "  9.771428,\n",
       "  54.274494,\n",
       "  -3.1174026,\n",
       "  53.380817,\n",
       "  3.6594033,\n",
       "  57.866287,\n",
       "  -6.507284,\n",
       "  49.80213,\n",
       "  1.0878415,\n",
       "  47.44548,\n",
       "  -4.4854007,\n",
       "  41.09154,\n",
       "  4.725541,\n",
       "  36.171886,\n",
       "  -2.7550318,\n",
       "  44.879578,\n",
       "  0.50596565,\n",
       "  37.08108]]"
      ]
     },
     "execution_count": 23,
     "metadata": {},
     "output_type": "execute_result"
    }
   ],
   "source": [
    "feature_array = [[features[x] for x in features.keys()]]\n",
    "feature_array"
   ]
  },
  {
   "cell_type": "code",
   "execution_count": 25,
   "metadata": {},
   "outputs": [
    {
     "name": "stdout",
     "output_type": "stream",
     "text": [
      "(1, 58)\n",
      "[[-0.13282213  1.33618427 -2.44388196 -0.22525658 -0.75663742  1.49882262\n",
      "  -0.50242554  0.91202801  0.14800251  1.16624774 -0.10970533  1.90113726\n",
      "  -0.26572068  0.44992986 -0.47944947  2.6195039  -0.51567322 -0.8425559\n",
      "   0.91407627 -1.22692735 -1.57969596 -1.16146771 -0.11839762 -0.72452063\n",
      "   0.6038223   0.00815313  0.63004985 -0.57646394 -0.38088818 -0.66373152\n",
      "   1.06791776 -0.85034028 -0.12086815 -0.56190487  1.56235563 -0.78787889\n",
      "  -0.13947551 -0.82528415  0.28988766 -0.49935451  0.78954066 -0.44148018\n",
      "   0.27216728 -0.43729339  0.37505958 -0.20032518 -0.54154981 -0.38574005\n",
      "  -0.01317609 -0.39346825 -0.1142125  -0.64376927  1.09067988 -0.8009563\n",
      "  -0.11354876 -0.57466707  0.4175429  -0.73098912]]\n"
     ]
    }
   ],
   "source": [
    "scaler = pickle.load(open('scaler.pkl', 'rb'))\n",
    "X = np.array(feature_array, dtype=float)\n",
    "X_transformed = scaler.transform(X.reshape(1,-1))\n",
    "# X = scaler.fit_transform(np.array(feature_array, dtype = float))\n",
    "print(X.shape)\n",
    "print(X_transformed)"
   ]
  },
  {
   "cell_type": "code",
   "execution_count": 27,
   "metadata": {},
   "outputs": [
    {
     "name": "stdout",
     "output_type": "stream",
     "text": [
      "[[3.6417348e-06 5.2628474e-11 3.9219591e-04 1.0080415e-02 4.3267362e-05\n",
      "  1.1700623e-09 9.8816013e-01 4.0674192e-07 3.8071976e-05 1.2820113e-03]]\n",
      "6\n",
      "metal\n"
     ]
    }
   ],
   "source": [
    "y_pred = model.predict(X_transformed)\n",
    "print(y_pred)\n",
    "print(np.argmax(y_pred))\n",
    "\n",
    "categories = ['blues', 'classical', 'country', 'disco', 'hiphop', 'jazz', 'metal', 'pop', 'reggae', 'rock']\n",
    "print(categories[np.argmax(y_pred)])"
   ]
  }
 ],
 "metadata": {
  "kernelspec": {
   "display_name": "Python 3",
   "language": "python",
   "name": "python3"
  },
  "language_info": {
   "codemirror_mode": {
    "name": "ipython",
    "version": 3
   },
   "file_extension": ".py",
   "mimetype": "text/x-python",
   "name": "python",
   "nbconvert_exporter": "python",
   "pygments_lexer": "ipython3",
   "version": "3.7.4"
  }
 },
 "nbformat": 4,
 "nbformat_minor": 4
}
